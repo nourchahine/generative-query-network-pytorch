{
 "cells": [
  {
   "cell_type": "code",
   "execution_count": 27,
   "id": "950cf36d",
   "metadata": {},
   "outputs": [
    {
     "name": "stdout",
     "output_type": "stream",
     "text": [
      "/home/mila/c/chahinen/venvs/gqn_env/lib/python3.10/site-packages/ignite/handlers/checkpoint.py:16: DeprecationWarning: `TorchScript` support for functional optimizers is deprecated and will be removed in a future PyTorch release. Consider using the `torch.compile` optimizer instead.\n",
      "  from torch.distributed.optim import ZeroRedundancyOptimizer\n",
      "/home/mila/c/chahinen/gqn_project/generative-query-network-pytorch/shepardmetzler.py:63: FutureWarning: You are using `torch.load` with `weights_only=False` (the current default value), which uses the default pickle module implicitly. It is possible to construct malicious pickle data which will execute arbitrary code during unpickling (See https://github.com/pytorch/pytorch/blob/main/SECURITY.md#untrusted-models for more details). In a future release, the default value for `weights_only` will be flipped to `True`. This limits the functions that could be executed during unpickling. Arbitrary objects will no longer be allowed to be loaded via this mode unless they are explicitly allowlisted by the user via `torch.serialization.add_safe_globals`. We recommend you start setting `weights_only=True` for any use case where you don't have full control of the loaded file. Please open an issue on GitHub for any issues related to this experimental feature.\n",
      "  data = torch.load(f)\n",
      "Epoch [1/2]: [1/12]   8%|▍    , elbo=-2.1e+4, kl=821, sigma=2, mu=5e-6 [00:00<?]^C\n"
     ]
    }
   ],
   "source": [
    "!python run-gqn.py --data_dir \"/home/mila/c/chahinen/scratch/Data/gqndata_converted/tmp/shepard_metzler_5_parts\" \\\n",
    "    --log_dir \"/network/scratch/c/chahinen/gqn_logs\" \\\n",
    "    --fraction 0.001 \\\n",
    "    --data_parallel \"True\" \\\n",
    "    --batch_size 1 \\\n",
    "    --workers 6 \\\n",
    "    --n_epochs 2    "
   ]
  },
  {
   "cell_type": "code",
   "execution_count": null,
   "id": "0e8a3bb1",
   "metadata": {},
   "outputs": [],
   "source": [
    "!python run-gqn.py --data_dir \"/home/mila/c/chahinen/scratch/Data/gqndata_converted_rooms/rooms_free_camera_with_object_rotations\" \\\n",
    "    --log_dir \"/network/scratch/c/chahinen/gqn_logs/rooms\" \\\n",
    "    --fraction 0.001 \\\n",
    "    --data_parallel \"True\" \\\n",
    "    --batch_size 1 \\\n",
    "    --workers 6 \\\n",
    "    --n_epochs 2    "
   ]
  },
  {
   "cell_type": "code",
   "execution_count": 20,
   "id": "2df3e96f",
   "metadata": {},
   "outputs": [
    {
     "name": "stdout",
     "output_type": "stream",
     "text": [
      "--- Verification for Shepard-Metzler Dataset ---\n",
      "Inspecting file: 561-of-900-00.pt.gz\n",
      " -> Shape of the 'images' tensor: (64, 15, 64, 64, 3)\n",
      " -> CONFIRMED IMAGE SIZE: 64x64 (Height x Width)\n",
      "\n",
      "==================================================\n",
      "\n",
      "--- Verification for Rooms Dataset ---\n",
      "Inspecting file: 0345-of-2034-00.pt.gz\n",
      " -> Shape of the 'images' tensor: (32, 10, 128, 128, 3)\n",
      " -> CONFIRMED IMAGE SIZE: 128x128 (Height x Width)\n"
     ]
    }
   ],
   "source": [
    "import torch\n",
    "import gzip\n",
    "import os\n",
    "\n",
    "# --- VERIFICATION SCRIPT ---\n",
    "\n",
    "# IMPORTANT: Please update these two paths to point to your converted data directories\n",
    "shepard_metzler_dir = \"/network/scratch/c/chahinen/Data/gqndata_converted/tmp/shepard_metzler_5_parts/train\"\n",
    "rooms_dir = \"/network/scratch/c/chahinen/Data/gqndata_converted_rooms/rooms_free_camera_with_object_rotations/train\"\n",
    "\n",
    "print(\"--- Verification for Shepard-Metzler Dataset ---\")\n",
    "try:\n",
    "    # Find the first .pt.gz file in the directory\n",
    "    sm_file_name = [f for f in os.listdir(shepard_metzler_dir) if f.endswith('.pt.gz')][0]\n",
    "    sm_file_path = os.path.join(shepard_metzler_dir, sm_file_name)\n",
    "    \n",
    "    print(f\"Inspecting file: {sm_file_name}\")\n",
    "    with gzip.open(sm_file_path, \"r\") as f:\n",
    "        images, _ = torch.load(f, weights_only=False) # Load the (images, viewpoints) tuple\n",
    "    \n",
    "    # Shape is (Batch, Sequence, Height, Width, Channels) for the raw numpy array\n",
    "    print(f\" -> Shape of the 'images' tensor: {images.shape}\")\n",
    "    print(f\" -> CONFIRMED IMAGE SIZE: {images.shape[2]}x{images.shape[3]} (Height x Width)\")\n",
    "\n",
    "except (FileNotFoundError, IndexError):\n",
    "    print(\" -> Could not find converted files. Please check the 'shepard_metzler_dir' path.\")\n",
    "except Exception as e:\n",
    "    print(f\" -> An error occurred: {e}\")\n",
    "\n",
    "\n",
    "print(\"\\n\" + \"=\"*50 + \"\\n\")\n",
    "\n",
    "\n",
    "print(\"--- Verification for Rooms Dataset ---\")\n",
    "try:\n",
    "    # Find the first .pt.gz file in the directory\n",
    "    rooms_file_name = [f for f in os.listdir(rooms_dir) if f.endswith('.pt.gz')][0]\n",
    "    rooms_file_path = os.path.join(rooms_dir, rooms_file_name)\n",
    "\n",
    "    print(f\"Inspecting file: {rooms_file_name}\")\n",
    "    with gzip.open(rooms_file_path, \"r\") as f:\n",
    "        images, _ = torch.load(f, weights_only=False) # Load the (images, viewpoints) tuple\n",
    "        \n",
    "    print(f\" -> Shape of the 'images' tensor: {images.shape}\")\n",
    "    print(f\" -> CONFIRMED IMAGE SIZE: {images.shape[2]}x{images.shape[3]} (Height x Width)\")\n",
    "\n",
    "except (FileNotFoundError, IndexError):\n",
    "    print(\" -> Could not find converted files. Please check the 'rooms_dir' path.\")\n",
    "except Exception as e:\n",
    "    print(f\" -> An error occurred: {e}\")"
   ]
  }
 ],
 "metadata": {
  "kernelspec": {
   "display_name": "Python 3",
   "language": "python",
   "name": "python3"
  },
  "language_info": {
   "codemirror_mode": {
    "name": "ipython",
    "version": 3
   },
   "file_extension": ".py",
   "mimetype": "text/x-python",
   "name": "python",
   "nbconvert_exporter": "python",
   "pygments_lexer": "ipython3",
   "version": "3.10.18"
  }
 },
 "nbformat": 4,
 "nbformat_minor": 5
}
